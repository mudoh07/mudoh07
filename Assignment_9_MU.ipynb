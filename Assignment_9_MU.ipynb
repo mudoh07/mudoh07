{
  "nbformat": 4,
  "nbformat_minor": 0,
  "metadata": {
    "colab": {
      "name": "Assignment_9_MU.ipynb",
      "provenance": [],
      "collapsed_sections": []
    },
    "kernelspec": {
      "name": "python3",
      "display_name": "Python 3"
    },
    "accelerator": "GPU"
  },
  "cells": [
    {
      "cell_type": "markdown",
      "metadata": {
        "id": "xwYchZMwtQEa"
      },
      "source": [
        "Load the data and perform EDA.\n",
        "\n",
        "https://www.kaggle.com/pavansubhasht/ibm-hr-analytics-attrition-dataset\n",
        "\n",
        "1. Evaluate missing values\n",
        "2. Assess target class distribution\n",
        "3. Assess information value of individual features (correlation analysis and pairlot).\n",
        "\n",
        "5 pts.\n"
      ]
    },
    {
      "cell_type": "code",
      "metadata": {
        "id": "8-OsqFcWHf4t"
      },
      "source": [
        "import pandas as pd\n",
        "import numpy as np\n",
        "import seaborn as sns\n",
        "import matplotlib.pyplot as plt\n",
        "employAtt = pd.read_csv('Employee-Attrition.csv')"
      ],
      "execution_count": null,
      "outputs": []
    },
    {
      "cell_type": "code",
      "source": [
        "employAtt.describe().transpose()"
      ],
      "metadata": {
        "colab": {
          "base_uri": "https://localhost:8080/",
          "height": 865
        },
        "id": "3BuBdWBRKiUV",
        "outputId": "de93a234-7a2d-4ed2-e0fa-f6135fb3e927"
      },
      "execution_count": null,
      "outputs": [
        {
          "output_type": "execute_result",
          "data": {
            "text/html": [
              "<div>\n",
              "<style scoped>\n",
              "    .dataframe tbody tr th:only-of-type {\n",
              "        vertical-align: middle;\n",
              "    }\n",
              "\n",
              "    .dataframe tbody tr th {\n",
              "        vertical-align: top;\n",
              "    }\n",
              "\n",
              "    .dataframe thead th {\n",
              "        text-align: right;\n",
              "    }\n",
              "</style>\n",
              "<table border=\"1\" class=\"dataframe\">\n",
              "  <thead>\n",
              "    <tr style=\"text-align: right;\">\n",
              "      <th></th>\n",
              "      <th>count</th>\n",
              "      <th>mean</th>\n",
              "      <th>std</th>\n",
              "      <th>min</th>\n",
              "      <th>25%</th>\n",
              "      <th>50%</th>\n",
              "      <th>75%</th>\n",
              "      <th>max</th>\n",
              "    </tr>\n",
              "  </thead>\n",
              "  <tbody>\n",
              "    <tr>\n",
              "      <th>Age</th>\n",
              "      <td>1470.0</td>\n",
              "      <td>36.923810</td>\n",
              "      <td>9.135373</td>\n",
              "      <td>18.0</td>\n",
              "      <td>30.00</td>\n",
              "      <td>36.0</td>\n",
              "      <td>43.00</td>\n",
              "      <td>60.0</td>\n",
              "    </tr>\n",
              "    <tr>\n",
              "      <th>DailyRate</th>\n",
              "      <td>1470.0</td>\n",
              "      <td>802.485714</td>\n",
              "      <td>403.509100</td>\n",
              "      <td>102.0</td>\n",
              "      <td>465.00</td>\n",
              "      <td>802.0</td>\n",
              "      <td>1157.00</td>\n",
              "      <td>1499.0</td>\n",
              "    </tr>\n",
              "    <tr>\n",
              "      <th>DistanceFromHome</th>\n",
              "      <td>1470.0</td>\n",
              "      <td>9.192517</td>\n",
              "      <td>8.106864</td>\n",
              "      <td>1.0</td>\n",
              "      <td>2.00</td>\n",
              "      <td>7.0</td>\n",
              "      <td>14.00</td>\n",
              "      <td>29.0</td>\n",
              "    </tr>\n",
              "    <tr>\n",
              "      <th>Education</th>\n",
              "      <td>1470.0</td>\n",
              "      <td>2.912925</td>\n",
              "      <td>1.024165</td>\n",
              "      <td>1.0</td>\n",
              "      <td>2.00</td>\n",
              "      <td>3.0</td>\n",
              "      <td>4.00</td>\n",
              "      <td>5.0</td>\n",
              "    </tr>\n",
              "    <tr>\n",
              "      <th>EmployeeCount</th>\n",
              "      <td>1470.0</td>\n",
              "      <td>1.000000</td>\n",
              "      <td>0.000000</td>\n",
              "      <td>1.0</td>\n",
              "      <td>1.00</td>\n",
              "      <td>1.0</td>\n",
              "      <td>1.00</td>\n",
              "      <td>1.0</td>\n",
              "    </tr>\n",
              "    <tr>\n",
              "      <th>EmployeeNumber</th>\n",
              "      <td>1470.0</td>\n",
              "      <td>1024.865306</td>\n",
              "      <td>602.024335</td>\n",
              "      <td>1.0</td>\n",
              "      <td>491.25</td>\n",
              "      <td>1020.5</td>\n",
              "      <td>1555.75</td>\n",
              "      <td>2068.0</td>\n",
              "    </tr>\n",
              "    <tr>\n",
              "      <th>EnvironmentSatisfaction</th>\n",
              "      <td>1470.0</td>\n",
              "      <td>2.721769</td>\n",
              "      <td>1.093082</td>\n",
              "      <td>1.0</td>\n",
              "      <td>2.00</td>\n",
              "      <td>3.0</td>\n",
              "      <td>4.00</td>\n",
              "      <td>4.0</td>\n",
              "    </tr>\n",
              "    <tr>\n",
              "      <th>HourlyRate</th>\n",
              "      <td>1470.0</td>\n",
              "      <td>65.891156</td>\n",
              "      <td>20.329428</td>\n",
              "      <td>30.0</td>\n",
              "      <td>48.00</td>\n",
              "      <td>66.0</td>\n",
              "      <td>83.75</td>\n",
              "      <td>100.0</td>\n",
              "    </tr>\n",
              "    <tr>\n",
              "      <th>JobInvolvement</th>\n",
              "      <td>1470.0</td>\n",
              "      <td>2.729932</td>\n",
              "      <td>0.711561</td>\n",
              "      <td>1.0</td>\n",
              "      <td>2.00</td>\n",
              "      <td>3.0</td>\n",
              "      <td>3.00</td>\n",
              "      <td>4.0</td>\n",
              "    </tr>\n",
              "    <tr>\n",
              "      <th>JobLevel</th>\n",
              "      <td>1470.0</td>\n",
              "      <td>2.063946</td>\n",
              "      <td>1.106940</td>\n",
              "      <td>1.0</td>\n",
              "      <td>1.00</td>\n",
              "      <td>2.0</td>\n",
              "      <td>3.00</td>\n",
              "      <td>5.0</td>\n",
              "    </tr>\n",
              "    <tr>\n",
              "      <th>JobSatisfaction</th>\n",
              "      <td>1470.0</td>\n",
              "      <td>2.728571</td>\n",
              "      <td>1.102846</td>\n",
              "      <td>1.0</td>\n",
              "      <td>2.00</td>\n",
              "      <td>3.0</td>\n",
              "      <td>4.00</td>\n",
              "      <td>4.0</td>\n",
              "    </tr>\n",
              "    <tr>\n",
              "      <th>MonthlyIncome</th>\n",
              "      <td>1470.0</td>\n",
              "      <td>6502.931293</td>\n",
              "      <td>4707.956783</td>\n",
              "      <td>1009.0</td>\n",
              "      <td>2911.00</td>\n",
              "      <td>4919.0</td>\n",
              "      <td>8379.00</td>\n",
              "      <td>19999.0</td>\n",
              "    </tr>\n",
              "    <tr>\n",
              "      <th>MonthlyRate</th>\n",
              "      <td>1470.0</td>\n",
              "      <td>14313.103401</td>\n",
              "      <td>7117.786044</td>\n",
              "      <td>2094.0</td>\n",
              "      <td>8047.00</td>\n",
              "      <td>14235.5</td>\n",
              "      <td>20461.50</td>\n",
              "      <td>26999.0</td>\n",
              "    </tr>\n",
              "    <tr>\n",
              "      <th>NumCompaniesWorked</th>\n",
              "      <td>1470.0</td>\n",
              "      <td>2.693197</td>\n",
              "      <td>2.498009</td>\n",
              "      <td>0.0</td>\n",
              "      <td>1.00</td>\n",
              "      <td>2.0</td>\n",
              "      <td>4.00</td>\n",
              "      <td>9.0</td>\n",
              "    </tr>\n",
              "    <tr>\n",
              "      <th>PercentSalaryHike</th>\n",
              "      <td>1470.0</td>\n",
              "      <td>15.209524</td>\n",
              "      <td>3.659938</td>\n",
              "      <td>11.0</td>\n",
              "      <td>12.00</td>\n",
              "      <td>14.0</td>\n",
              "      <td>18.00</td>\n",
              "      <td>25.0</td>\n",
              "    </tr>\n",
              "    <tr>\n",
              "      <th>PerformanceRating</th>\n",
              "      <td>1470.0</td>\n",
              "      <td>3.153741</td>\n",
              "      <td>0.360824</td>\n",
              "      <td>3.0</td>\n",
              "      <td>3.00</td>\n",
              "      <td>3.0</td>\n",
              "      <td>3.00</td>\n",
              "      <td>4.0</td>\n",
              "    </tr>\n",
              "    <tr>\n",
              "      <th>RelationshipSatisfaction</th>\n",
              "      <td>1470.0</td>\n",
              "      <td>2.712245</td>\n",
              "      <td>1.081209</td>\n",
              "      <td>1.0</td>\n",
              "      <td>2.00</td>\n",
              "      <td>3.0</td>\n",
              "      <td>4.00</td>\n",
              "      <td>4.0</td>\n",
              "    </tr>\n",
              "    <tr>\n",
              "      <th>StandardHours</th>\n",
              "      <td>1470.0</td>\n",
              "      <td>80.000000</td>\n",
              "      <td>0.000000</td>\n",
              "      <td>80.0</td>\n",
              "      <td>80.00</td>\n",
              "      <td>80.0</td>\n",
              "      <td>80.00</td>\n",
              "      <td>80.0</td>\n",
              "    </tr>\n",
              "    <tr>\n",
              "      <th>StockOptionLevel</th>\n",
              "      <td>1470.0</td>\n",
              "      <td>0.793878</td>\n",
              "      <td>0.852077</td>\n",
              "      <td>0.0</td>\n",
              "      <td>0.00</td>\n",
              "      <td>1.0</td>\n",
              "      <td>1.00</td>\n",
              "      <td>3.0</td>\n",
              "    </tr>\n",
              "    <tr>\n",
              "      <th>TotalWorkingYears</th>\n",
              "      <td>1470.0</td>\n",
              "      <td>11.279592</td>\n",
              "      <td>7.780782</td>\n",
              "      <td>0.0</td>\n",
              "      <td>6.00</td>\n",
              "      <td>10.0</td>\n",
              "      <td>15.00</td>\n",
              "      <td>40.0</td>\n",
              "    </tr>\n",
              "    <tr>\n",
              "      <th>TrainingTimesLastYear</th>\n",
              "      <td>1470.0</td>\n",
              "      <td>2.799320</td>\n",
              "      <td>1.289271</td>\n",
              "      <td>0.0</td>\n",
              "      <td>2.00</td>\n",
              "      <td>3.0</td>\n",
              "      <td>3.00</td>\n",
              "      <td>6.0</td>\n",
              "    </tr>\n",
              "    <tr>\n",
              "      <th>WorkLifeBalance</th>\n",
              "      <td>1470.0</td>\n",
              "      <td>2.761224</td>\n",
              "      <td>0.706476</td>\n",
              "      <td>1.0</td>\n",
              "      <td>2.00</td>\n",
              "      <td>3.0</td>\n",
              "      <td>3.00</td>\n",
              "      <td>4.0</td>\n",
              "    </tr>\n",
              "    <tr>\n",
              "      <th>YearsAtCompany</th>\n",
              "      <td>1470.0</td>\n",
              "      <td>7.008163</td>\n",
              "      <td>6.126525</td>\n",
              "      <td>0.0</td>\n",
              "      <td>3.00</td>\n",
              "      <td>5.0</td>\n",
              "      <td>9.00</td>\n",
              "      <td>40.0</td>\n",
              "    </tr>\n",
              "    <tr>\n",
              "      <th>YearsInCurrentRole</th>\n",
              "      <td>1470.0</td>\n",
              "      <td>4.229252</td>\n",
              "      <td>3.623137</td>\n",
              "      <td>0.0</td>\n",
              "      <td>2.00</td>\n",
              "      <td>3.0</td>\n",
              "      <td>7.00</td>\n",
              "      <td>18.0</td>\n",
              "    </tr>\n",
              "    <tr>\n",
              "      <th>YearsSinceLastPromotion</th>\n",
              "      <td>1470.0</td>\n",
              "      <td>2.187755</td>\n",
              "      <td>3.222430</td>\n",
              "      <td>0.0</td>\n",
              "      <td>0.00</td>\n",
              "      <td>1.0</td>\n",
              "      <td>3.00</td>\n",
              "      <td>15.0</td>\n",
              "    </tr>\n",
              "    <tr>\n",
              "      <th>YearsWithCurrManager</th>\n",
              "      <td>1470.0</td>\n",
              "      <td>4.123129</td>\n",
              "      <td>3.568136</td>\n",
              "      <td>0.0</td>\n",
              "      <td>2.00</td>\n",
              "      <td>3.0</td>\n",
              "      <td>7.00</td>\n",
              "      <td>17.0</td>\n",
              "    </tr>\n",
              "  </tbody>\n",
              "</table>\n",
              "</div>"
            ],
            "text/plain": [
              "                           count          mean  ...       75%      max\n",
              "Age                       1470.0     36.923810  ...     43.00     60.0\n",
              "DailyRate                 1470.0    802.485714  ...   1157.00   1499.0\n",
              "DistanceFromHome          1470.0      9.192517  ...     14.00     29.0\n",
              "Education                 1470.0      2.912925  ...      4.00      5.0\n",
              "EmployeeCount             1470.0      1.000000  ...      1.00      1.0\n",
              "EmployeeNumber            1470.0   1024.865306  ...   1555.75   2068.0\n",
              "EnvironmentSatisfaction   1470.0      2.721769  ...      4.00      4.0\n",
              "HourlyRate                1470.0     65.891156  ...     83.75    100.0\n",
              "JobInvolvement            1470.0      2.729932  ...      3.00      4.0\n",
              "JobLevel                  1470.0      2.063946  ...      3.00      5.0\n",
              "JobSatisfaction           1470.0      2.728571  ...      4.00      4.0\n",
              "MonthlyIncome             1470.0   6502.931293  ...   8379.00  19999.0\n",
              "MonthlyRate               1470.0  14313.103401  ...  20461.50  26999.0\n",
              "NumCompaniesWorked        1470.0      2.693197  ...      4.00      9.0\n",
              "PercentSalaryHike         1470.0     15.209524  ...     18.00     25.0\n",
              "PerformanceRating         1470.0      3.153741  ...      3.00      4.0\n",
              "RelationshipSatisfaction  1470.0      2.712245  ...      4.00      4.0\n",
              "StandardHours             1470.0     80.000000  ...     80.00     80.0\n",
              "StockOptionLevel          1470.0      0.793878  ...      1.00      3.0\n",
              "TotalWorkingYears         1470.0     11.279592  ...     15.00     40.0\n",
              "TrainingTimesLastYear     1470.0      2.799320  ...      3.00      6.0\n",
              "WorkLifeBalance           1470.0      2.761224  ...      3.00      4.0\n",
              "YearsAtCompany            1470.0      7.008163  ...      9.00     40.0\n",
              "YearsInCurrentRole        1470.0      4.229252  ...      7.00     18.0\n",
              "YearsSinceLastPromotion   1470.0      2.187755  ...      3.00     15.0\n",
              "YearsWithCurrManager      1470.0      4.123129  ...      7.00     17.0\n",
              "\n",
              "[26 rows x 8 columns]"
            ]
          },
          "metadata": {},
          "execution_count": 2
        }
      ]
    },
    {
      "cell_type": "code",
      "source": [
        "employAtt.columns"
      ],
      "metadata": {
        "colab": {
          "base_uri": "https://localhost:8080/"
        },
        "id": "CQkQghIuWhrB",
        "outputId": "e212ad47-4f95-48ca-88f1-b32cd62ab35a"
      },
      "execution_count": null,
      "outputs": [
        {
          "output_type": "execute_result",
          "data": {
            "text/plain": [
              "Index(['Age', 'Attrition', 'BusinessTravel', 'DailyRate', 'Department',\n",
              "       'DistanceFromHome', 'Education', 'EducationField', 'EmployeeCount',\n",
              "       'EmployeeNumber', 'EnvironmentSatisfaction', 'Gender', 'HourlyRate',\n",
              "       'JobInvolvement', 'JobLevel', 'JobRole', 'JobSatisfaction',\n",
              "       'MaritalStatus', 'MonthlyIncome', 'MonthlyRate', 'NumCompaniesWorked',\n",
              "       'Over18', 'OverTime', 'PercentSalaryHike', 'PerformanceRating',\n",
              "       'RelationshipSatisfaction', 'StandardHours', 'StockOptionLevel',\n",
              "       'TotalWorkingYears', 'TrainingTimesLastYear', 'WorkLifeBalance',\n",
              "       'YearsAtCompany', 'YearsInCurrentRole', 'YearsSinceLastPromotion',\n",
              "       'YearsWithCurrManager'],\n",
              "      dtype='object')"
            ]
          },
          "metadata": {},
          "execution_count": 3
        }
      ]
    },
    {
      "cell_type": "code",
      "source": [
        "employAtt['Gender'] = employAtt['Gender'].astype('category')\n",
        "employAtt['Education'] = employAtt['Education'].astype('category')\n",
        "employAtt['MaritalStatus'] = employAtt['MaritalStatus'].astype('category')\n",
        "employAtt['JobRole'] = employAtt['JobRole'].astype('category')\n",
        "employAtt['OverTime'] = employAtt['OverTime'].astype('category')\n",
        "employAtt['Attrition'] = employAtt['Attrition'].astype('category')\n",
        "employAtt['EducationField'] = employAtt['EducationField'].astype('category')\n",
        "employAtt['BusinessTravel'] = employAtt['BusinessTravel'].astype('category')\n",
        "employAtt['DistanceFromHome'] = employAtt['DistanceFromHome'].astype('category')\n",
        "employAtt['Department'] = employAtt['Department'].astype('category')"
      ],
      "metadata": {
        "id": "v59iodf-LSPh"
      },
      "execution_count": null,
      "outputs": []
    },
    {
      "cell_type": "code",
      "source": [
        "employAtt.drop(['EmployeeCount'], axis=1, inplace= True)\n",
        "employAtt.drop(['Over18'], axis=1, inplace= True)\n",
        "employAtt.drop(['StandardHours'], axis=1, inplace= True)"
      ],
      "metadata": {
        "id": "pc7rQH9Xh1j4"
      },
      "execution_count": null,
      "outputs": []
    },
    {
      "cell_type": "code",
      "source": [
        "rework = {\"BusinessTravel\": {\"Non-Travel\": 0, \"Travel_frequently\": 1, \"Travel_Rarely\": 2},\n",
        "          \"Department\": {\"Human Resources\": 0, \"Research & Development\": 1, \"Sales\": 2}, \n",
        "          \"Attrition\": {\"No\": 0, \"Yes:\": 1}, \n",
        "          \"MaritalStatus\": {\"Single\": 0, \"Married:\": 1, \"Divorced\": 2}, \n",
        "          \"Gender\": {\"Female\": 0, \"Male\": 1}, \n",
        "          \"EducationField\": {\"Human Resources\": 0, \"Marketing\": 1, \"Medical\": 2, \"Other\": 3, \"Technical Degree\": 4, \"Life Sciences\": 5}, \n",
        "          \"JobRole\": {\"Human Resources\": 0, \"Healthcare Representative\": 1, \"Laboratory Technician\": 2, \"Manager\": 3, \"Manufacturing Director\": 4}}\n"
      ],
      "metadata": {
        "id": "Wfj1RzJ6jalL"
      },
      "execution_count": null,
      "outputs": []
    },
    {
      "cell_type": "code",
      "source": [
        "employAtt.replace(rework, inplace= True)"
      ],
      "metadata": {
        "id": "el09ESJX4tQ6"
      },
      "execution_count": null,
      "outputs": []
    },
    {
      "cell_type": "code",
      "source": [
        "employAtt['Attrition'] = employAtt['Attrition'].apply(lambda x :1 if x== 'Yes' else 0)"
      ],
      "metadata": {
        "id": "Tod057HNGOeo"
      },
      "execution_count": null,
      "outputs": []
    },
    {
      "cell_type": "code",
      "source": [
        "employAtt = pd.get_dummies(employAtt, drop_first= True)"
      ],
      "metadata": {
        "id": "Bh7waZ8NeWpn"
      },
      "execution_count": null,
      "outputs": []
    },
    {
      "cell_type": "code",
      "source": [
        "employAtt.info()"
      ],
      "metadata": {
        "colab": {
          "base_uri": "https://localhost:8080/"
        },
        "id": "sv9xsHoxRCBG",
        "outputId": "356b47af-300d-4736-8fd1-f50c54e8bd79"
      },
      "execution_count": null,
      "outputs": [
        {
          "output_type": "stream",
          "name": "stdout",
          "text": [
            "<class 'pandas.core.frame.DataFrame'>\n",
            "RangeIndex: 1470 entries, 0 to 1469\n",
            "Data columns (total 71 columns):\n",
            " #   Column                            Non-Null Count  Dtype\n",
            "---  ------                            --------------  -----\n",
            " 0   Age                               1470 non-null   int64\n",
            " 1   Attrition                         1470 non-null   int64\n",
            " 2   DailyRate                         1470 non-null   int64\n",
            " 3   Department                        1470 non-null   int64\n",
            " 4   EducationField                    1470 non-null   int64\n",
            " 5   EmployeeNumber                    1470 non-null   int64\n",
            " 6   EnvironmentSatisfaction           1470 non-null   int64\n",
            " 7   Gender                            1470 non-null   int64\n",
            " 8   HourlyRate                        1470 non-null   int64\n",
            " 9   JobInvolvement                    1470 non-null   int64\n",
            " 10  JobLevel                          1470 non-null   int64\n",
            " 11  JobSatisfaction                   1470 non-null   int64\n",
            " 12  MonthlyIncome                     1470 non-null   int64\n",
            " 13  MonthlyRate                       1470 non-null   int64\n",
            " 14  NumCompaniesWorked                1470 non-null   int64\n",
            " 15  PercentSalaryHike                 1470 non-null   int64\n",
            " 16  PerformanceRating                 1470 non-null   int64\n",
            " 17  RelationshipSatisfaction          1470 non-null   int64\n",
            " 18  StockOptionLevel                  1470 non-null   int64\n",
            " 19  TotalWorkingYears                 1470 non-null   int64\n",
            " 20  TrainingTimesLastYear             1470 non-null   int64\n",
            " 21  WorkLifeBalance                   1470 non-null   int64\n",
            " 22  YearsAtCompany                    1470 non-null   int64\n",
            " 23  YearsInCurrentRole                1470 non-null   int64\n",
            " 24  YearsSinceLastPromotion           1470 non-null   int64\n",
            " 25  YearsWithCurrManager              1470 non-null   int64\n",
            " 26  BusinessTravel_2                  1470 non-null   uint8\n",
            " 27  BusinessTravel_Travel_Frequently  1470 non-null   uint8\n",
            " 28  DistanceFromHome_2                1470 non-null   uint8\n",
            " 29  DistanceFromHome_3                1470 non-null   uint8\n",
            " 30  DistanceFromHome_4                1470 non-null   uint8\n",
            " 31  DistanceFromHome_5                1470 non-null   uint8\n",
            " 32  DistanceFromHome_6                1470 non-null   uint8\n",
            " 33  DistanceFromHome_7                1470 non-null   uint8\n",
            " 34  DistanceFromHome_8                1470 non-null   uint8\n",
            " 35  DistanceFromHome_9                1470 non-null   uint8\n",
            " 36  DistanceFromHome_10               1470 non-null   uint8\n",
            " 37  DistanceFromHome_11               1470 non-null   uint8\n",
            " 38  DistanceFromHome_12               1470 non-null   uint8\n",
            " 39  DistanceFromHome_13               1470 non-null   uint8\n",
            " 40  DistanceFromHome_14               1470 non-null   uint8\n",
            " 41  DistanceFromHome_15               1470 non-null   uint8\n",
            " 42  DistanceFromHome_16               1470 non-null   uint8\n",
            " 43  DistanceFromHome_17               1470 non-null   uint8\n",
            " 44  DistanceFromHome_18               1470 non-null   uint8\n",
            " 45  DistanceFromHome_19               1470 non-null   uint8\n",
            " 46  DistanceFromHome_20               1470 non-null   uint8\n",
            " 47  DistanceFromHome_21               1470 non-null   uint8\n",
            " 48  DistanceFromHome_22               1470 non-null   uint8\n",
            " 49  DistanceFromHome_23               1470 non-null   uint8\n",
            " 50  DistanceFromHome_24               1470 non-null   uint8\n",
            " 51  DistanceFromHome_25               1470 non-null   uint8\n",
            " 52  DistanceFromHome_26               1470 non-null   uint8\n",
            " 53  DistanceFromHome_27               1470 non-null   uint8\n",
            " 54  DistanceFromHome_28               1470 non-null   uint8\n",
            " 55  DistanceFromHome_29               1470 non-null   uint8\n",
            " 56  Education_2                       1470 non-null   uint8\n",
            " 57  Education_3                       1470 non-null   uint8\n",
            " 58  Education_4                       1470 non-null   uint8\n",
            " 59  Education_5                       1470 non-null   uint8\n",
            " 60  JobRole_1                         1470 non-null   uint8\n",
            " 61  JobRole_2                         1470 non-null   uint8\n",
            " 62  JobRole_3                         1470 non-null   uint8\n",
            " 63  JobRole_4                         1470 non-null   uint8\n",
            " 64  JobRole_Research Director         1470 non-null   uint8\n",
            " 65  JobRole_Research Scientist        1470 non-null   uint8\n",
            " 66  JobRole_Sales Executive           1470 non-null   uint8\n",
            " 67  JobRole_Sales Representative      1470 non-null   uint8\n",
            " 68  MaritalStatus_2                   1470 non-null   uint8\n",
            " 69  MaritalStatus_Married             1470 non-null   uint8\n",
            " 70  OverTime_Yes                      1470 non-null   uint8\n",
            "dtypes: int64(26), uint8(45)\n",
            "memory usage: 363.3 KB\n"
          ]
        }
      ]
    },
    {
      "cell_type": "code",
      "source": [
        "print('probability of employee attrition: ', employAtt.Attrition.mean())"
      ],
      "metadata": {
        "colab": {
          "base_uri": "https://localhost:8080/"
        },
        "id": "_9DDyKpJ2H87",
        "outputId": "fc5b2793-6a8d-4677-c724-fc3d367064e6"
      },
      "execution_count": null,
      "outputs": [
        {
          "output_type": "stream",
          "name": "stdout",
          "text": [
            "probability of employee attrition:  0.16122448979591836\n"
          ]
        }
      ]
    },
    {
      "cell_type": "code",
      "metadata": {
        "id": "JXn7LVBcHjYB",
        "colab": {
          "base_uri": "https://localhost:8080/",
          "height": 443
        },
        "outputId": "a10de438-22ed-4b9e-e7a1-966469bc931f"
      },
      "source": [
        "sns.heatmap(employAtt.corr(), cmap=\"Spectral\")"
      ],
      "execution_count": null,
      "outputs": [
        {
          "output_type": "execute_result",
          "data": {
            "text/plain": [
              "<matplotlib.axes._subplots.AxesSubplot at 0x7fb1cd05bf90>"
            ]
          },
          "metadata": {},
          "execution_count": 35
        },
        {
          "output_type": "display_data",
          "data": {
            "image/png": "[encoded data removed]",
            "text/plain": [
              "<Figure size 432x288 with 2 Axes>"
            ]
          },
          "metadata": {
            "needs_background": "light"
          }
        }
      ]
    },
    {
      "cell_type": "code",
      "source": [
        "employAtt.corr()['Attrition'].sort_values(ascending=False)"
      ],
      "metadata": {
        "colab": {
          "base_uri": "https://localhost:8080/"
        },
        "id": "XM01Op2qVvDM",
        "outputId": "bd624571-2464-45e8-bcbd-d7bf7ebaf3b0"
      },
      "execution_count": null,
      "outputs": [
        {
          "output_type": "execute_result",
          "data": {
            "text/plain": [
              "Attrition                           1.000000\n",
              "OverTime_Yes                        0.246118\n",
              "JobRole_Sales Representative        0.157234\n",
              "BusinessTravel_Travel_Frequently    0.115143\n",
              "DistanceFromHome_24                 0.101306\n",
              "                                      ...   \n",
              "Age                                -0.159205\n",
              "MonthlyIncome                      -0.159840\n",
              "YearsInCurrentRole                 -0.160545\n",
              "JobLevel                           -0.169105\n",
              "TotalWorkingYears                  -0.171063\n",
              "Name: Attrition, Length: 71, dtype: float64"
            ]
          },
          "metadata": {},
          "execution_count": 23
        }
      ]
    },
    {
      "cell_type": "code",
      "source": [
        "sns.pairplot(employAtt[['OverTime_Yes','JobRole_Sales Representative','BusinessTravel_Travel_Frequently','DistanceFromHome_24', 'Attrition']],)"
      ],
      "metadata": {
        "colab": {
          "base_uri": "https://localhost:8080/",
          "height": 920
        },
        "id": "1vWoiF9BAZnE",
        "outputId": "86471149-b069-4632-fa83-badd76e8c204"
      },
      "execution_count": null,
      "outputs": [
        {
          "output_type": "execute_result",
          "data": {
            "text/plain": [
              "<seaborn.axisgrid.PairGrid at 0x7fb147ffffd0>"
            ]
          },
          "metadata": {},
          "execution_count": 63
        },
        {
          "output_type": "display_data",
          "data": {
            "image/png": "[encoded data removed]",
            "text/plain": [
              "<Figure size 900x900 with 30 Axes>"
            ]
          },
          "metadata": {
            "needs_background": "light"
          }
        }
      ]
    },
    {
      "cell_type": "markdown",
      "metadata": {
        "id": "fm55yhmByrlB"
      },
      "source": [
        "4. Pre-process the dataset\n",
        "5. Split the data into training/test datasets (70/30)\n",
        "\n",
        "4 pts."
      ]
    },
    {
      "cell_type": "code",
      "source": [
        "from sklearn.model_selection import train_test_split\n",
        "\n",
        "X = employAtt.drop('Attrition',axis=1).values\n",
        "y = employAtt['Attrition'].values"
      ],
      "metadata": {
        "id": "VOhlJnGHNFDi"
      },
      "execution_count": null,
      "outputs": []
    },
    {
      "cell_type": "code",
      "source": [
        "X_train, X_test, y_train, y_test = train_test_split(X,y,test_size=0.30,random_state=1)"
      ],
      "metadata": {
        "id": "8feKQyLPNFe2"
      },
      "execution_count": null,
      "outputs": []
    },
    {
      "cell_type": "code",
      "source": [
        "from sklearn.preprocessing import MinMaxScaler\n",
        "\n",
        "scaler = MinMaxScaler()\n",
        "scaler.fit(X_train)\n",
        "\n",
        "X_train = scaler.transform(X_train)\n",
        "X_test = scaler.transform(X_test)"
      ],
      "metadata": {
        "id": "_kRvc7-mNMXE"
      },
      "execution_count": null,
      "outputs": []
    },
    {
      "cell_type": "markdown",
      "metadata": {
        "id": "VI7ZKbZyzV3G"
      },
      "source": [
        "6. Build a sequential neural network with the following parameters: 3 hidden dense layers - 100, 50, 25 nodes respectively, activation function = 'relu', dropout = 0.5 for each layer).\n",
        "7. Use early stopping callback to prevent overfitting.\n",
        "\n",
        "7 pts."
      ]
    },
    {
      "cell_type": "code",
      "source": [
        "import tensorflow as tf\n",
        "from tensorflow.keras.models import Sequential\n",
        "from tensorflow.keras.layers import Dense, Activation, Dropout"
      ],
      "metadata": {
        "id": "SW3M-vzMNMqF"
      },
      "execution_count": null,
      "outputs": []
    },
    {
      "cell_type": "code",
      "source": [
        "model = Sequential()\n",
        "model.add(Dense(units=100,activation='relu'))\n",
        "model.add(Dropout(0.5))\n",
        "\n",
        "model.add(Dense(units=50,activation='relu'))\n",
        "model.add(Dropout(0.5))\n",
        "\n",
        "model.add(Dense(units=25,activation='relu'))\n",
        "model.add(Dropout(0.5))\n",
        "\n",
        "model.add(Dense(units=1,activation='relu'))\n",
        "model.compile(loss='binary_crossentropy', optimizer='adam')"
      ],
      "metadata": {
        "id": "_G0PI84Xixnj"
      },
      "execution_count": null,
      "outputs": []
    },
    {
      "cell_type": "code",
      "source": [
        "from tensorflow.keras.callbacks import EarlyStopping\n",
        "early_stop = EarlyStopping(monitor='val_loss', mode='min', verbose=1, patience=5)"
      ],
      "metadata": {
        "id": "CpyYWBlnEhIB"
      },
      "execution_count": null,
      "outputs": []
    },
    {
      "cell_type": "code",
      "source": [
        "model.fit(x=X_train, \n",
        "          y=y_train, \n",
        "          batch_size=128,\n",
        "          epochs=200,\n",
        "          validation_data=(X_test, y_test), verbose=1,\n",
        "          callbacks=[early_stop]\n",
        "          )"
      ],
      "metadata": {
        "id": "GExmWh36OJwD",
        "colab": {
          "base_uri": "https://localhost:8080/"
        },
        "outputId": "9f95b214-7f4b-4628-ad96-0e7108870f90"
      },
      "execution_count": null,
      "outputs": [
        {
          "output_type": "stream",
          "name": "stdout",
          "text": [
            "Epoch 1/200\n",
            "9/9 [==============================] - 1s 30ms/step - loss: 2.2537 - val_loss: 2.6140\n",
            "Epoch 2/200\n",
            "9/9 [==============================] - 0s 9ms/step - loss: 1.9492 - val_loss: 2.6371\n",
            "Epoch 3/200\n",
            "9/9 [==============================] - 0s 10ms/step - loss: 2.0231 - val_loss: 2.6374\n",
            "Epoch 4/200\n",
            "9/9 [==============================] - 0s 9ms/step - loss: 1.9499 - val_loss: 2.6094\n",
            "Epoch 5/200\n",
            "9/9 [==============================] - 0s 9ms/step - loss: 1.6687 - val_loss: 2.5337\n",
            "Epoch 6/200\n",
            "9/9 [==============================] - 0s 10ms/step - loss: 1.7594 - val_loss: 2.4091\n",
            "Epoch 7/200\n",
            "9/9 [==============================] - 0s 11ms/step - loss: 1.8716 - val_loss: 2.3352\n",
            "Epoch 8/200\n",
            "9/9 [==============================] - 0s 9ms/step - loss: 1.8987 - val_loss: 2.3458\n",
            "Epoch 9/200\n",
            "9/9 [==============================] - 0s 10ms/step - loss: 1.7248 - val_loss: 2.3493\n",
            "Epoch 10/200\n",
            "9/9 [==============================] - 0s 9ms/step - loss: 1.8029 - val_loss: 2.2684\n",
            "Epoch 11/200\n",
            "9/9 [==============================] - 0s 8ms/step - loss: 1.7944 - val_loss: 2.1909\n",
            "Epoch 12/200\n",
            "9/9 [==============================] - 0s 8ms/step - loss: 1.7246 - val_loss: 2.1657\n",
            "Epoch 13/200\n",
            "9/9 [==============================] - 0s 9ms/step - loss: 1.5171 - val_loss: 2.2138\n",
            "Epoch 14/200\n",
            "9/9 [==============================] - 0s 10ms/step - loss: 1.5733 - val_loss: 2.1328\n",
            "Epoch 15/200\n",
            "9/9 [==============================] - 0s 9ms/step - loss: 1.5314 - val_loss: 1.7967\n",
            "Epoch 16/200\n",
            "9/9 [==============================] - 0s 11ms/step - loss: 1.5348 - val_loss: 1.5501\n",
            "Epoch 17/200\n",
            "9/9 [==============================] - 0s 9ms/step - loss: 1.4523 - val_loss: 1.3385\n",
            "Epoch 18/200\n",
            "9/9 [==============================] - 0s 8ms/step - loss: 1.4937 - val_loss: 1.2504\n",
            "Epoch 19/200\n",
            "9/9 [==============================] - 0s 10ms/step - loss: 1.3557 - val_loss: 1.1471\n",
            "Epoch 20/200\n",
            "9/9 [==============================] - 0s 8ms/step - loss: 1.4572 - val_loss: 1.0282\n",
            "Epoch 21/200\n",
            "9/9 [==============================] - 0s 9ms/step - loss: 1.4709 - val_loss: 0.9081\n",
            "Epoch 22/200\n",
            "9/9 [==============================] - 0s 8ms/step - loss: 1.3614 - val_loss: 0.7330\n",
            "Epoch 23/200\n",
            "9/9 [==============================] - 0s 11ms/step - loss: 1.3403 - val_loss: 0.5313\n",
            "Epoch 24/200\n",
            "9/9 [==============================] - 0s 9ms/step - loss: 1.1140 - val_loss: 0.4860\n",
            "Epoch 25/200\n",
            "9/9 [==============================] - 0s 8ms/step - loss: 1.0497 - val_loss: 0.4820\n",
            "Epoch 26/200\n",
            "9/9 [==============================] - 0s 10ms/step - loss: 0.9784 - val_loss: 0.4851\n",
            "Epoch 27/200\n",
            "9/9 [==============================] - 0s 10ms/step - loss: 1.0042 - val_loss: 0.4884\n",
            "Epoch 28/200\n",
            "9/9 [==============================] - 0s 9ms/step - loss: 0.9377 - val_loss: 0.4878\n",
            "Epoch 29/200\n",
            "9/9 [==============================] - 0s 11ms/step - loss: 0.8615 - val_loss: 0.4848\n",
            "Epoch 30/200\n",
            "9/9 [==============================] - 0s 10ms/step - loss: 0.9259 - val_loss: 0.4563\n",
            "Epoch 31/200\n",
            "9/9 [==============================] - 0s 10ms/step - loss: 0.8920 - val_loss: 0.4552\n",
            "Epoch 32/200\n",
            "9/9 [==============================] - 0s 9ms/step - loss: 0.8162 - val_loss: 0.4793\n",
            "Epoch 33/200\n",
            "9/9 [==============================] - 0s 10ms/step - loss: 0.8106 - val_loss: 0.4830\n",
            "Epoch 34/200\n",
            "9/9 [==============================] - 0s 10ms/step - loss: 0.9239 - val_loss: 0.4818\n",
            "Epoch 35/200\n",
            "9/9 [==============================] - 0s 9ms/step - loss: 0.8745 - val_loss: 0.4578\n",
            "Epoch 36/200\n",
            "9/9 [==============================] - 0s 8ms/step - loss: 0.8269 - val_loss: 0.4571\n",
            "Epoch 00036: early stopping\n"
          ]
        },
        {
          "output_type": "execute_result",
          "data": {
            "text/plain": [
              "<keras.callbacks.History at 0x7fb143172f50>"
            ]
          },
          "metadata": {},
          "execution_count": 70
        }
      ]
    },
    {
      "cell_type": "markdown",
      "metadata": {
        "id": "eTz0f2v730pM"
      },
      "source": [
        "8. Plot training and validation losses versus epochs.\n",
        "9. Print out model confusion matrix.\n",
        "10. Print out model classification report.\n",
        "11. Print out model ROC AUC.\n",
        "\n",
        "4 pts."
      ]
    },
    {
      "cell_type": "code",
      "metadata": {
        "id": "Sjs4xEn_HlDR",
        "colab": {
          "base_uri": "https://localhost:8080/",
          "height": 282
        },
        "outputId": "04aaa05f-5675-416f-b5c7-1dff588a4a46"
      },
      "source": [
        "model_loss = pd.DataFrame(model.history.history)\n",
        "model_loss.plot()"
      ],
      "execution_count": null,
      "outputs": [
        {
          "output_type": "execute_result",
          "data": {
            "text/plain": [
              "<matplotlib.axes._subplots.AxesSubplot at 0x7fb14270e5d0>"
            ]
          },
          "metadata": {},
          "execution_count": 71
        },
        {
          "output_type": "display_data",
          "data": {
            "image/png": "[encoded data removed]",
            "text/plain": [
              "<Figure size 432x288 with 1 Axes>"
            ]
          },
          "metadata": {
            "needs_background": "light"
          }
        }
      ]
    },
    {
      "cell_type": "code",
      "source": [
        "y_pred = model.predict(X_test)\n",
        "y_pred = (y_pred >=.5)"
      ],
      "metadata": {
        "id": "Af_XkGiTOR9-"
      },
      "execution_count": null,
      "outputs": []
    },
    {
      "cell_type": "code",
      "source": [
        "print(confusion_matrix(y_test,y_pred))\n",
        "print('ROC AUC: ', roc_auc_score(y_test,y_pred))"
      ],
      "metadata": {
        "id": "Oj2BHYeyOb4X",
        "colab": {
          "base_uri": "https://localhost:8080/"
        },
        "outputId": "a1569756-ffd3-401b-cb6a-3be8a6574fc5"
      },
      "execution_count": null,
      "outputs": [
        {
          "output_type": "stream",
          "name": "stdout",
          "text": [
            "[[364   0]\n",
            " [ 77   0]]\n",
            "ROC AUC:  0.5\n"
          ]
        }
      ]
    },
    {
      "cell_type": "code",
      "source": [
        "from sklearn.metrics import classification_report,confusion_matrix, roc_auc_score\n",
        "\n",
        "print(classification_report(y_test,y_pred))"
      ],
      "metadata": {
        "id": "GV1FIwbeOVl7",
        "colab": {
          "base_uri": "https://localhost:8080/"
        },
        "outputId": "e903c993-fd3b-4edf-e5dc-d619a7f9c6ca"
      },
      "execution_count": null,
      "outputs": [
        {
          "output_type": "stream",
          "name": "stdout",
          "text": [
            "              precision    recall  f1-score   support\n",
            "\n",
            "           0       0.83      1.00      0.90       364\n",
            "           1       0.00      0.00      0.00        77\n",
            "\n",
            "    accuracy                           0.83       441\n",
            "   macro avg       0.41      0.50      0.45       441\n",
            "weighted avg       0.68      0.83      0.75       441\n",
            "\n"
          ]
        },
        {
          "output_type": "stream",
          "name": "stderr",
          "text": [
            "/usr/local/lib/python3.7/dist-packages/sklearn/metrics/_classification.py:1308: UndefinedMetricWarning: Precision and F-score are ill-defined and being set to 0.0 in labels with no predicted samples. Use `zero_division` parameter to control this behavior.\n",
            "  _warn_prf(average, modifier, msg_start, len(result))\n",
            "/usr/local/lib/python3.7/dist-packages/sklearn/metrics/_classification.py:1308: UndefinedMetricWarning: Precision and F-score are ill-defined and being set to 0.0 in labels with no predicted samples. Use `zero_division` parameter to control this behavior.\n",
            "  _warn_prf(average, modifier, msg_start, len(result))\n",
            "/usr/local/lib/python3.7/dist-packages/sklearn/metrics/_classification.py:1308: UndefinedMetricWarning: Precision and F-score are ill-defined and being set to 0.0 in labels with no predicted samples. Use `zero_division` parameter to control this behavior.\n",
            "  _warn_prf(average, modifier, msg_start, len(result))\n"
          ]
        }
      ]
    }
  ]
}